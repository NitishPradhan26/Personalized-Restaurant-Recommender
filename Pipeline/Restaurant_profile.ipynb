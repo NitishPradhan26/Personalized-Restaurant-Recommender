{
 "cells": [
  {
   "cell_type": "code",
   "execution_count": 1,
   "metadata": {
    "id": "cPJBkflrgX_X"
   },
   "outputs": [],
   "source": [
    "import pandas as pd\n",
    "import numpy as np "
   ]
  },
  {
   "cell_type": "code",
   "execution_count": 2,
   "metadata": {
    "id": "DQqa2FQaAhZB"
   },
   "outputs": [],
   "source": [
    "rf = pd.read_csv(\"./from_skip_files/Restaurant_item(LowerCase).csv\")\n",
    "rf_c = pd.read_csv('./derived_files/Cuisine_Restaurant.csv')"
   ]
  },
  {
   "cell_type": "code",
   "execution_count": 3,
   "metadata": {},
   "outputs": [
    {
     "name": "stdout",
     "output_type": "stream",
     "text": [
      "2354\n",
      "0\n",
      "             short_name      menuGroups_menuItems_name  menuGroups_name  \\\n",
      "0  1600 world bier haus          Steak Sandwich (6 oz)            Mains   \n",
      "1  1600 world bier haus  Roasted Butternut Squash Soup  Soup and Salads   \n",
      "2  1600 world bier haus           Jumbo Prawn Linguine            Pasta   \n",
      "3  1600 world bier haus              Haus Greens Salad  Soup and Salads   \n",
      "4  1600 world bier haus                 Kids Ice Cream        Kids Menu   \n",
      "\n",
      "                    menuGroups_menuItems_description  \n",
      "0  Six-ounce Alberta flat iron, frizzled onions, ...  \n",
      "1                              paprika, herbed crema  \n",
      "2  jumbo prawns, butter garlic, brunoise onion, s...  \n",
      "3  Vegetarian. Dried cranberries, toasted pumpkin...  \n",
      "4  Belgium waffle with vanilla bean ice cream, ch...  \n"
     ]
    }
   ],
   "source": [
    "print(rf['short_name'].nunique())\n",
    "print(rf['short_name'].str.contains('DNU').sum())\n",
    "print(rf.head())"
   ]
  },
  {
   "cell_type": "code",
   "execution_count": 4,
   "metadata": {},
   "outputs": [
    {
     "name": "stdout",
     "output_type": "stream",
     "text": [
      "Index(['short_name', 'menuGroups_menuItems_name', 'menuGroups_name',\n",
      "       'menuGroups_menuItems_description'],\n",
      "      dtype='object')\n",
      "                  short_name  \\\n",
      "0       1600 world bier haus   \n",
      "1       1600 world bier haus   \n",
      "2       1600 world bier haus   \n",
      "3       1600 world bier haus   \n",
      "4       1600 world bier haus   \n",
      "...                      ...   \n",
      "284432   zyn the wine market   \n",
      "284433   zyn the wine market   \n",
      "284434   zyn the wine market   \n",
      "284435   zyn the wine market   \n",
      "284436   zyn the wine market   \n",
      "\n",
      "                                         item_description  \n",
      "0       Steak Sandwich (6 oz) Mains Six-ounce Alberta ...  \n",
      "1       Roasted Butternut Squash Soup Soup and Salads ...  \n",
      "2       Jumbo Prawn Linguine Pasta jumbo prawns, butte...  \n",
      "3       Haus Greens Salad Soup and Salads Vegetarian. ...  \n",
      "4       Kids Ice Cream Kids Menu Belgium waffle with v...  \n",
      "...                                                   ...  \n",
      "284432  Park Distillery Alpine Gin Spirits (ABV 45%) (...  \n",
      "284433   Smirnoff Vodka Spirits (ABV 40%) (750 ml Bottle)  \n",
      "284434  Maison No. 9 Rose 2020 Wine (ABV 12.50%) (750 ...  \n",
      "284435  Lucky Lager (15 Pack) Beer (ABV 4.80%) (355 ml...  \n",
      "284436  Montes Sauvignon Blanc 2020 (750 ml Bottle) Wi...  \n",
      "\n",
      "[284437 rows x 2 columns]\n"
     ]
    }
   ],
   "source": [
    "rf = rf.fillna(\"\")\n",
    "print(rf.columns)\n",
    "rf['item_description'] = rf['menuGroups_menuItems_name']+\" \"+rf[\"menuGroups_name\"]+\" \"+rf[\"menuGroups_menuItems_description\"]\n",
    "rf = rf.drop([\"menuGroups_menuItems_name\",\"menuGroups_name\",\"menuGroups_menuItems_description\"], axis=1)\n",
    "print(rf)"
   ]
  },
  {
   "cell_type": "code",
   "execution_count": 5,
   "metadata": {},
   "outputs": [
    {
     "name": "stdout",
     "output_type": "stream",
     "text": [
      "1867\n",
      "2354\n",
      "1420\n",
      "934\n"
     ]
    }
   ],
   "source": [
    "intersection = set(rf['short_name'].unique()) & set(rf_c['short_name'].to_list())\n",
    "diff = set(rf['short_name'].unique()) - set(rf_c['short_name'].to_list())\n",
    "print(rf_c['short_name'].nunique())\n",
    "print(rf['short_name'].nunique())\n",
    "print(len(intersection))\n",
    "print(len(diff))"
   ]
  },
  {
   "cell_type": "code",
   "execution_count": 6,
   "metadata": {},
   "outputs": [],
   "source": [
    "# List cuisine types\n",
    "cuisine_types = [\n",
    "    \"Fast Food\",\n",
    "    \"Pub Food\",\n",
    "    \"Convenience\",\n",
    "    \"Indian\",\n",
    "    \"Italian\",\n",
    "    \"Chinese\",\n",
    "    \"Vietnamese\",\n",
    "    \"Japanese\",\n",
    "    \"Mediterranean\",\n",
    "    \"Middle Eastern\",\n",
    "    \"Mexican\",\n",
    "    \"Korean\",\n",
    "    \"Thai\",\n",
    "    \"French\",\n",
    "    \"African\",\n",
    "    \"Latin American\",\n",
    "    \"Ethiopian\",\n",
    "    \"Caribbean\",\n",
    "    \"Filipino\",\n",
    "    \"Spanish\",\n",
    "    \"German\",\n",
    "]"
   ]
  },
  {
   "cell_type": "code",
   "execution_count": 7,
   "metadata": {
    "colab": {
     "base_uri": "https://localhost:8080/"
    },
    "id": "n5hihbjmge4f",
    "outputId": "11367741-1d3d-4bed-b82d-90e7ee4ba5ef"
   },
   "outputs": [
    {
     "name": "stdout",
     "output_type": "stream",
     "text": [
      "54\n"
     ]
    }
   ],
   "source": [
    "# Map of cuisine type to keywords that fit under that cuisine\n",
    "cuisine_map = {\n",
    "    \"Chicken\" : [\"chicken\"],\n",
    "    \"Fries\" : [\"fries\"],\n",
    "    \"Beef\" : [\"beef\"],\n",
    "    \"Pork\" : [\"pork\", \"bacon\", \"pepperoni\"],\n",
    "    \"Rice\" : [\"rice\"],\n",
    "    \"Lamb\" : [\"lamb\"],\n",
    "    \"Vegetarian\" : [\"vegan\", \"vegetarian\", \"veggie\", \"beyond meat\"],\n",
    "    \"Sandwiches & Subs\" : [\"sandwich\", \"sub\", \"wrap\", \"blt\"],\n",
    "    \"Desserts\" : [\"blizzard\", \"ice cream\", \"frozen\", \"dessert\", \"chocolate\", \"drizzle\", \"desserts\", \"milkshake\", \"candy\", \n",
    "                  \"candies\", \"sundae\", \"oreo\", \"skor\", \"brownie\", \"shake\", \"tiramisu\", \"timbits\", \"ben and jerry\", \n",
    "                  \"cheesecake\", \"cookie\"],\n",
    "    \"Canadian\" : [\"canadian\", \"canadien\", \"alberta\",\"poutine\"],\n",
    "    \"Fast Food\" : [\"fast food\",\"combo\", \"meal\"],\n",
    "    \"Burgers\" : [\"burger\", \"patty\", \"mcdouble\", \"big mac\", \"quarter pounder\"],\n",
    "    \"Seafood\" : [\"fish\", \"seafood\", \"shrimp\", \"crab\", \"lobster\", \"prawn\", \"seaweed\", \n",
    "                 \"salmon\", \"tuna\", \"poke\", \"calamari\", \"squid\", \"fish and chips\"],\n",
    "    \"Healthy\" : [\"organic\", \"health\", \"protein\", \"salad\", \"fresh\", \"tofu\",  \"fruit\", \"water\", \"vegetable\", \"smoothie\", \"parfait\"],\n",
    "    \"Pizza\" : [\"pizza\"],\n",
    "    \"Breakfast & Brunch\" : [\"egg\", \"toast\", \"benedict\", \"breakfast\", \"brunch\", \"cereal\", \"pancake\", \"waffle\", \"hash brown\"],\n",
    "    \"Coffee/Tea\" : [\"coffee\", \" tea \", \"americano\", \"cappuccino\", \"latte\", \"cafe\", \"chai\", \"london fog\"],\n",
    "    \"Alcohol\" : [\"beer\", \"wine\", \"liquor\", \"budweiser\", \"bud light\", \"spirits\", \"corona\", \"stella artois\", \n",
    "                 \"michelob ultra\", \"mike's hard\", \"labatt\", \"sauvignon\", \"smirnoff\", \"vodka\", \"whisky\", \"cognac\",\n",
    "                 \"white claw\", \"pinot noir\"],\n",
    "    \"Noodles\" : [\"noodle\", \"vermicelli\"],\n",
    "    \"Pub Food\" : [\"wing\", \"onion ring\", \"wedge\", \"mac & cheese\", \"mac and cheese\", \"gravy\", \"mashed potato\", \"breadsticks\"], \n",
    "    \"Indian\" : [\"indian\", \"naan\", \"nan\", \"pakora\", \"samosa\", \"masala\", \"aloo\", \"paneer\", \"biryani\", \"tandoori\", \"roti\", \"tikka\"],\n",
    "    \"Italian\" : [\"italian\", \"pasta\", \"spaghetti\", \"penne\", \"fettuccini\", \"lasagna\", \"lasagne\", \"linguini\", \"ravioli\", \"tortellini\", \"meatball\", \"canoli\"],\n",
    "    \"Bakery\" : [\"danish\", \"cake\", \"bun\", \"donut\", \"muffin\",\"bagel\", \"doughnut\", \"pie\", \"scone\", \"cinnamon roll\", \"loaf\"],\n",
    "    \"Barbecue\" : [\"barbecue\", \"bbq\", \"grill\", \"buffalo\"],\n",
    "    \"Chinese\" : [\"chinese\", \"china\", \"hot pot\", \"wonton\", \"cantonese\", \"mein\", \"gyoza\", \"dumpling\"],\n",
    "    \"Vietnamese\" : [\"vietnamese\", \"pho\", \"viet\", \"bun cha\",\"ca kho to\"],\n",
    "    \"Japanese\" : [\"japanese\",\"japan\", \"ramen\", \"sashimi\", \"teriyaki\", \"katsu\", \"tempura\", \"edamame\", \"bento\", \"takoyaki\"],\n",
    "    \"Tacos\": [\"taco\"],\n",
    "    \"Sushi\" : [\"sushi\"],\n",
    "    \"Mediterranean\" : [\"mediterranean\",\"pita\", \"damascus\", \"greek\", \"greece\", \"briam\",\"taramasalata\", \"opa\"],\n",
    "    \"Hot Dogs & Sausages\" : [\"hot dogs\",\"sausage\", \"weiner\"],\n",
    "    \"Middle Eastern\" : [\"middle eastern\",\"falafel\", \"hummus\",\"shawarma\", \"baklava\", \"donair\", \"tzatziki\"],\n",
    "    \"Convenience\" : [\"convenience\",\"pre-made\",\"grocery\", \"slurpee\"],\n",
    "    \"Mexican\" : [\"mexican\", \"chilaquiles\", \"burrito\", \"nacho\", \"quesadilla\", \"queso\", \"taquito\", \"salsa\"],\n",
    "    \"Steakhouse\" : [\"steakhouse\", \"steak\"],\n",
    "    \"Halal\" : [\"halal\", \"zabiha\"],\n",
    "    \"Korean\" : [\"korean\", \"kimchi\", \"bulgogi\",\"bibimbap\",\"tteokbokki\",\"jjambbong\",\"doenjang\"],\n",
    "    \"Thai\" : [\"thai\", \"tom yum goong\", \"green curry\"],\n",
    "    \"Soup\" : [\"soup\"],\n",
    "    \"Gluten Free\" : [\"gluten free\", \"no gluten\"],\n",
    "    \"Popcorn\": [\"popcorn\"], \n",
    "    \"Pet Food\" : [\"pet\", \"dog\", \"cat\"],\n",
    "    \"Bubble Tea\" : [\"bubble tea\", \"boba\", \"milk tea\", \"taro milk\"],\n",
    "    \"French\" : [\"french\", \"francais\", \"crepe\", \"foie gras\",\"coq au vin\",\"cassoulet\",\"baguette\",\"croissant\",\"gougeres\",\"cajun & creole\", \"creole\"],\n",
    "    \"African\" : [\"african\",\"pap en vleis\", \"shisa nyama\",\"bunny chow\",\"koshari\"],\n",
    "    \"Latin American\" : [\"latin\",\"asado\",\"saltena\",\"feijoada\",\"empanada\",\"bandeja paisa\",\n",
    "                        \"gallo pinto\",\"ropa vieja\",\"mangu\",\"encebollado\", \"pupusas\",\"pepian\",\"peruvian\"],\n",
    "    \"Haute Cuisine\" : [\"haute\", \"high class\", \"expensive\", \"champagne\"],\n",
    "    \"Ethiopian\" : [\"ethiopian\",\"tibs\",\"kitfo\",\"beyainatu\",\"fuul\"],\n",
    "    \"Caribbean\" : [\"caribbean\", \"jamaica\",\"barbados\",\"bahamas\"],\n",
    "    \"Filipino\" : [\"filipino\",\"adobo\",\"lechon\",\"sisig\",\"bulalo\"],\n",
    "    \"Spanish\" : [\"spanish\",\"paella valenciana\",\"patatas bravas\",\"gazpacho\",\"pimientos de padron\",\"jamon\",\"tapas\",\"churro\"],\n",
    "    \"Butcher\" : [\"raw\", \"butcher\",\"delicatessen\"],\n",
    "    \"Kosher\" : [\"kosher\", 'kashrut', 'jewish'],\n",
    "    \"German\" : [\"german\",\"schnitzel\",\"rouladen\",\"eintopf\",\"sauerbraten\"]\n",
    "}\n",
    "print(len(list(cuisine_map.keys())))"
   ]
  },
  {
   "cell_type": "code",
   "execution_count": 8,
   "metadata": {
    "colab": {
     "base_uri": "https://localhost:8080/"
    },
    "id": "fg7u3FUu5JUS",
    "outputId": "2da7f591-c43f-4baa-e900-e57ae6f62c21",
    "scrolled": false
   },
   "outputs": [
    {
     "name": "stdout",
     "output_type": "stream",
     "text": [
      "0\n"
     ]
    }
   ],
   "source": [
    "overall_cuisine = dict(zip(cuisine_map.keys(), [0] * 54))\n",
    "grouped = rf.groupby('short_name')\n",
    "restaurant_profile_list = []\n",
    "miss = []\n",
    "nooblet = 0\n",
    "def process_group(group):\n",
    "    global miss\n",
    "    global nooblet\n",
    "    global overall_cuisine\n",
    "    restaurant_profile = dict(zip(cuisine_map.keys(), [0] * 54))\n",
    "    total_filtered = 0\n",
    "\n",
    "    for index, row in group.iterrows():\n",
    "        lower_item = row['item_description'].lower()\n",
    "        cuisine_identified_item = False\n",
    "        item_identified = False\n",
    "        # Searches for the cuisines associated with an item\n",
    "        # If there is a match, add the cuisines to the item information\n",
    "        for key in cuisine_map:\n",
    "            for cuisine in cuisine_map[key]:\n",
    "                if cuisine in lower_item:\n",
    "                    if key in cuisine_types:\n",
    "                        cuisine_identified_item = True \n",
    "                    restaurant_profile[key] +=1\n",
    "                    overall_cuisine[key] += 1\n",
    "                    total_filtered +=1 \n",
    "                    item_identified = True\n",
    "                    break\n",
    "        \n",
    "        # If the item has been caught by our filter, also add the restaurant's identified cuisine types to the item\n",
    "        if not cuisine_identified_item and item_identified:\n",
    "            nooblet +=1\n",
    "            restaurant_cuisines_df = rf_c[rf_c['short_name'] == row['short_name']]['cussine_list']\n",
    "            if restaurant_cuisines_df.shape[0] > 0:\n",
    "                restaurant_cuisines_list = restaurant_cuisines_df.str.split(\", \")\n",
    "                restaurant_cuisines = restaurant_cuisines_list.iloc[0]\n",
    "                for cuisine in restaurant_cuisines:\n",
    "                    restaurant_profile[cuisine] +=1 \n",
    "                    overall_cuisine[cuisine] += 1\n",
    "                    total_filtered += 1  \n",
    "       \n",
    "    map_total_filtered = 0\n",
    "    for value in restaurant_profile.values():\n",
    "          map_total_filtered += value\n",
    "    # Normalizing\n",
    "    if total_filtered == map_total_filtered and total_filtered != 0:\n",
    "        for key in restaurant_profile:\n",
    "            restaurant_profile[key] = restaurant_profile[key]/total_filtered\n",
    "        restaurant_profile['short_name'] = group.name\n",
    "        restaurant_profile_list.append(restaurant_profile)\n",
    "    else:\n",
    "      print(\"missed restaurant: \", group.name)\n",
    "\n",
    "grouped.apply(process_group)\n",
    "print(len(miss))"
   ]
  },
  {
   "cell_type": "code",
   "execution_count": 9,
   "metadata": {},
   "outputs": [
    {
     "name": "stdout",
     "output_type": "stream",
     "text": [
      "[]\n"
     ]
    }
   ],
   "source": [
    "# Prints the misses\n",
    "print(miss)"
   ]
  },
  {
   "cell_type": "code",
   "execution_count": 10,
   "metadata": {
    "colab": {
     "base_uri": "https://localhost:8080/"
    },
    "id": "ngrNrDXXUPtq",
    "outputId": "012cde09-aece-4017-e2e1-ebde18aa49a9"
   },
   "outputs": [
    {
     "name": "stdout",
     "output_type": "stream",
     "text": [
      "2354\n",
      "2354\n"
     ]
    }
   ],
   "source": [
    "# Initializes the final dataframe and checks that it matches\n",
    "restaurant_profile_df = pd.DataFrame(restaurant_profile_list)\n",
    "print(rf['short_name'].nunique())\n",
    "print(restaurant_profile_df['short_name'].nunique())"
   ]
  },
  {
   "cell_type": "code",
   "execution_count": 11,
   "metadata": {
    "colab": {
     "base_uri": "https://localhost:8080/"
    },
    "id": "0uP-L-8p-oWI",
    "outputId": "1c9811d1-01d7-4c31-ec4d-4fbbc186ddfa"
   },
   "outputs": [
    {
     "name": "stdout",
     "output_type": "stream",
     "text": [
      "                    short_name  African   Alcohol    Bakery  Barbecue  \\\n",
      "0         1600 world bier haus      0.0  0.005814  0.017442  0.023256   \n",
      "1     17th ave liquor boutique      0.0  0.720437  0.008202  0.000684   \n",
      "2                 1886 buffalo      0.0  0.000000  0.106742  0.067416   \n",
      "3            1886 buffalo cafe      0.0  0.000000  0.011765  0.047059   \n",
      "4        19 kitchen cooking nw      0.0  0.000000  0.000000  0.291667   \n",
      "...                        ...      ...       ...       ...       ...   \n",
      "2349               zen 8 grill      0.0  0.002062  0.030928  0.008247   \n",
      "2350      zero latency on tilt      0.0  0.137931  0.034483  0.017241   \n",
      "2351       zimidara restaurant      0.0  0.000000  0.000000  0.000000   \n",
      "2352                     zushi      0.0  0.000000  0.043478  0.000000   \n",
      "2353       zyn the wine market      0.0  0.837989  0.005587  0.000000   \n",
      "\n",
      "          Beef  Breakfast & Brunch  Bubble Tea   Burgers   Butcher  ...  \\\n",
      "0     0.011628            0.040698         0.0  0.023256  0.011628  ...   \n",
      "1     0.002734            0.000000         0.0  0.000000  0.008886  ...   \n",
      "2     0.028090            0.224719         0.0  0.011236  0.000000  ...   \n",
      "3     0.011765            0.294118         0.0  0.094118  0.000000  ...   \n",
      "4     0.083333            0.000000         0.0  0.000000  0.000000  ...   \n",
      "...        ...                 ...         ...       ...       ...  ...   \n",
      "2349  0.041237            0.014433         0.0  0.000000  0.020619  ...   \n",
      "2350  0.017241            0.034483         0.0  0.000000  0.017241  ...   \n",
      "2351  0.000000            0.015198         0.0  0.009119  0.000000  ...   \n",
      "2352  0.000000            0.043478         0.0  0.000000  0.043478  ...   \n",
      "2353  0.005587            0.000000         0.0  0.000000  0.022346  ...   \n",
      "\n",
      "      Sandwiches & Subs   Seafood      Soup  Spanish  Steakhouse     Sushi  \\\n",
      "0              0.011628  0.029070  0.052326      0.0    0.011628  0.000000   \n",
      "1              0.000684  0.000000  0.000000      0.0    0.000000  0.000000   \n",
      "2              0.016854  0.016854  0.028090      0.0    0.011236  0.000000   \n",
      "3              0.117647  0.000000  0.000000      0.0    0.023529  0.000000   \n",
      "4              0.000000  0.145833  0.041667      0.0    0.000000  0.041667   \n",
      "...                 ...       ...       ...      ...         ...       ...   \n",
      "2349           0.000000  0.134021  0.016495      0.0    0.012371  0.082474   \n",
      "2350           0.034483  0.017241  0.068966      0.0    0.000000  0.000000   \n",
      "2351           0.000000  0.018237  0.000000      0.0    0.000000  0.000000   \n",
      "2352           0.000000  0.173913  0.000000      0.0    0.000000  0.260870   \n",
      "2353           0.000000  0.000000  0.000000      0.0    0.000000  0.000000   \n",
      "\n",
      "         Tacos      Thai  Vegetarian  Vietnamese  \n",
      "0     0.005814  0.000000    0.034884    0.000000  \n",
      "1     0.000000  0.000000    0.003418    0.002051  \n",
      "2     0.005618  0.000000    0.089888    0.000000  \n",
      "3     0.000000  0.000000    0.000000    0.000000  \n",
      "4     0.000000  0.000000    0.000000    0.000000  \n",
      "...        ...       ...         ...         ...  \n",
      "2349  0.000000  0.012371    0.022680    0.010309  \n",
      "2350  0.000000  0.000000    0.000000    0.000000  \n",
      "2351  0.000000  0.000000    0.255319    0.000000  \n",
      "2352  0.000000  0.000000    0.000000    0.000000  \n",
      "2353  0.000000  0.000000    0.000000    0.000000  \n",
      "\n",
      "[2354 rows x 55 columns]\n"
     ]
    }
   ],
   "source": [
    "# Makes the dataframe for the restaurant profile\n",
    "restaurant_profile_df = restaurant_profile_df.reindex(columns=['short_name'] + list(restaurant_profile_df.columns.drop('short_name')))\n",
    "cols = restaurant_profile_df.columns.tolist()\n",
    "cols = cols[:-54] + sorted(cols[-54:])\n",
    "restaurant_profile_df = restaurant_profile_df.reindex(columns=cols)\n",
    "print(restaurant_profile_df)"
   ]
  },
  {
   "cell_type": "code",
   "execution_count": 12,
   "metadata": {
    "id": "_Qqh6yYS--m6"
   },
   "outputs": [],
   "source": [
    "# Make sure each row adds to 1 \n",
    "for index, row in restaurant_profile_df.iterrows():\n",
    "    if row[1:].sum() > 1.05 or row[1:].sum() < 0.95:\n",
    "      print(row[1:].sum())\n",
    "      print(\"Something is wrong at index: \", index)"
   ]
  },
  {
   "cell_type": "code",
   "execution_count": 13,
   "metadata": {
    "colab": {
     "base_uri": "https://localhost:8080/"
    },
    "id": "XlRbp_Qu_C9c",
    "outputId": "47320bfd-5449-45f2-993f-e17129b12f32"
   },
   "outputs": [
    {
     "name": "stdout",
     "output_type": "stream",
     "text": [
      "                    short_name  African   Alcohol    Bakery  Barbecue  \\\n",
      "0         1600 world bier haus      0.0  0.005814  0.017442  0.023256   \n",
      "1     17th ave liquor boutique      0.0  0.720437  0.008202  0.000684   \n",
      "2                 1886 buffalo      0.0  0.000000  0.106742  0.067416   \n",
      "3            1886 buffalo cafe      0.0  0.000000  0.011765  0.047059   \n",
      "4        19 kitchen cooking nw      0.0  0.000000  0.000000  0.291667   \n",
      "...                        ...      ...       ...       ...       ...   \n",
      "2349               zen 8 grill      0.0  0.002062  0.030928  0.008247   \n",
      "2350      zero latency on tilt      0.0  0.137931  0.034483  0.017241   \n",
      "2351       zimidara restaurant      0.0  0.000000  0.000000  0.000000   \n",
      "2352                     zushi      0.0  0.000000  0.043478  0.000000   \n",
      "2353       zyn the wine market      0.0  0.837989  0.005587  0.000000   \n",
      "\n",
      "          Beef  Breakfast & Brunch  Bubble Tea   Burgers   Butcher  ...  \\\n",
      "0     0.011628            0.040698         0.0  0.023256  0.011628  ...   \n",
      "1     0.002734            0.000000         0.0  0.000000  0.008886  ...   \n",
      "2     0.028090            0.224719         0.0  0.011236  0.000000  ...   \n",
      "3     0.011765            0.294118         0.0  0.094118  0.000000  ...   \n",
      "4     0.083333            0.000000         0.0  0.000000  0.000000  ...   \n",
      "...        ...                 ...         ...       ...       ...  ...   \n",
      "2349  0.041237            0.014433         0.0  0.000000  0.020619  ...   \n",
      "2350  0.017241            0.034483         0.0  0.000000  0.017241  ...   \n",
      "2351  0.000000            0.015198         0.0  0.009119  0.000000  ...   \n",
      "2352  0.000000            0.043478         0.0  0.000000  0.043478  ...   \n",
      "2353  0.005587            0.000000         0.0  0.000000  0.022346  ...   \n",
      "\n",
      "      Sandwiches & Subs   Seafood      Soup  Spanish  Steakhouse     Sushi  \\\n",
      "0              0.011628  0.029070  0.052326      0.0    0.011628  0.000000   \n",
      "1              0.000684  0.000000  0.000000      0.0    0.000000  0.000000   \n",
      "2              0.016854  0.016854  0.028090      0.0    0.011236  0.000000   \n",
      "3              0.117647  0.000000  0.000000      0.0    0.023529  0.000000   \n",
      "4              0.000000  0.145833  0.041667      0.0    0.000000  0.041667   \n",
      "...                 ...       ...       ...      ...         ...       ...   \n",
      "2349           0.000000  0.134021  0.016495      0.0    0.012371  0.082474   \n",
      "2350           0.034483  0.017241  0.068966      0.0    0.000000  0.000000   \n",
      "2351           0.000000  0.018237  0.000000      0.0    0.000000  0.000000   \n",
      "2352           0.000000  0.173913  0.000000      0.0    0.000000  0.260870   \n",
      "2353           0.000000  0.000000  0.000000      0.0    0.000000  0.000000   \n",
      "\n",
      "         Tacos      Thai  Vegetarian  Vietnamese  \n",
      "0     0.005814  0.000000    0.034884    0.000000  \n",
      "1     0.000000  0.000000    0.003418    0.002051  \n",
      "2     0.005618  0.000000    0.089888    0.000000  \n",
      "3     0.000000  0.000000    0.000000    0.000000  \n",
      "4     0.000000  0.000000    0.000000    0.000000  \n",
      "...        ...       ...         ...         ...  \n",
      "2349  0.000000  0.012371    0.022680    0.010309  \n",
      "2350  0.000000  0.000000    0.000000    0.000000  \n",
      "2351  0.000000  0.000000    0.255319    0.000000  \n",
      "2352  0.000000  0.000000    0.000000    0.000000  \n",
      "2353  0.000000  0.000000    0.000000    0.000000  \n",
      "\n",
      "[2354 rows x 55 columns]\n"
     ]
    }
   ],
   "source": [
    "print(restaurant_profile_df)\n",
    "# Finally makes the restaurant profile csv\n",
    "restaurant_profile_df.to_csv('./derived_files/restaurant_profiles.csv', index=False)"
   ]
  }
 ],
 "metadata": {
  "colab": {
   "provenance": []
  },
  "kernelspec": {
   "display_name": "Python 3 (ipykernel)",
   "language": "python",
   "name": "python3"
  },
  "language_info": {
   "codemirror_mode": {
    "name": "ipython",
    "version": 3
   },
   "file_extension": ".py",
   "mimetype": "text/x-python",
   "name": "python",
   "nbconvert_exporter": "python",
   "pygments_lexer": "ipython3",
   "version": "3.10.7"
  },
  "vscode": {
   "interpreter": {
    "hash": "271bd3e9c85a41c36a4f667c0c3e0589d8adc85f95fe2c820252030afcad1d77"
   }
  }
 },
 "nbformat": 4,
 "nbformat_minor": 1
}
