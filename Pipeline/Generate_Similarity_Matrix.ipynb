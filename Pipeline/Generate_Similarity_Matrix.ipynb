{
 "cells": [
  {
   "cell_type": "code",
   "execution_count": 1,
   "id": "e52b880a-b34e-4b74-b27a-97851cacbbac",
   "metadata": {},
   "outputs": [],
   "source": [
    "import pandas as pd\n",
    "import numpy as np"
   ]
  },
  {
   "cell_type": "code",
   "execution_count": 2,
   "id": "81589d06-c5a9-4671-ada2-a971f8eacfbe",
   "metadata": {},
   "outputs": [],
   "source": [
    "# df is order csv\n",
    "df = pd.read_csv(\"./from_skip_files/orders_11mil.csv\")\n",
    "# cf is customer profile csv\n",
    "cf = pd.read_csv(\"./derived_files/customer_profiles_recency.csv\")\n",
    "\n",
    "# Read in the names of cuisine types for storage in future dataframes\n",
    "names = cf.columns.values.tolist()\n",
    "\n",
    "# Get the count of all the customer orders, sorted by customer id\n",
    "group_counts = df.groupby('customer_id').count()\n",
    "arr = cf.to_numpy()"
   ]
  },
  {
   "cell_type": "code",
   "execution_count": 3,
   "id": "d1744c91-f0d9-453c-82d5-50ae88bdd739",
   "metadata": {},
   "outputs": [],
   "source": [
    "# Make a new list of customer profiles with any customer with less than 10 orders removed\n",
    "customer_profile_list = []\n",
    "i = 0\n",
    "for index, row in group_counts.iterrows():\n",
    "    if i >= arr.shape[0]:\n",
    "        break\n",
    "    if row[0] > 10:\n",
    "        customer_profile_list.append(arr[i, :])\n",
    "    i += 1"
   ]
  },
  {
   "cell_type": "code",
   "execution_count": 4,
   "id": "dcf1db71-859f-4381-9521-9c0d720b80c1",
   "metadata": {},
   "outputs": [
    {
     "name": "stdout",
     "output_type": "stream",
     "text": [
      "                                 customer_id  African   Alcohol    Bakery  \\\n",
      "0       0000267e-c83e-4a48-9776-8163eab97b6a      0.0  0.000000  0.010832   \n",
      "1       000118af-5466-4790-be93-f052f355a773      0.0  0.012231  0.010857   \n",
      "2       00011ffe-f012-42d0-9aab-e371f9cd8547      0.0  0.003054  0.048490   \n",
      "3       0001bab7-7ea0-4657-88db-7e7c57990a2b      0.0  0.000000  0.000000   \n",
      "4       000242ae-bd33-48da-ad7c-1cac5086dd05      0.0  0.000000  0.063679   \n",
      "...                                      ...      ...       ...       ...   \n",
      "200478  fffd1f5a-09e4-4cac-b275-4676ec841c7a      0.0  0.000000  0.000000   \n",
      "200479  fffd5519-4a83-489c-a715-2fbcb7c2718a      0.0  0.000000  0.017278   \n",
      "200480  fffda4bb-f035-409c-ad58-79ba22d34fa1      0.0  0.000000  0.000000   \n",
      "200481  fffecc08-88f5-414c-b29d-0ddc6177352d      0.0  0.000000  0.000000   \n",
      "200482  fffed9c1-b66d-419d-a92f-72b69720b7a4      0.0  0.000000  0.018349   \n",
      "\n",
      "        Barbecue      Beef  Breakfast & Brunch  Bubble Tea   Burgers  \\\n",
      "0       0.052743  0.011100            0.021587    0.000000  0.028767   \n",
      "1       0.000000  0.000000            0.242477    0.001685  0.035784   \n",
      "2       0.027935  0.019451            0.005922    0.009756  0.126025   \n",
      "3       0.000000  0.014201            0.000000    0.000000  0.000000   \n",
      "4       0.024533  0.228126            0.000000    0.019622  0.127358   \n",
      "...          ...       ...                 ...         ...       ...   \n",
      "200478  0.224650  0.244822            0.000000    0.000000  0.000000   \n",
      "200479  0.021997  0.050419            0.007476    0.000000  0.066910   \n",
      "200480  0.000000  0.115405            0.000000    0.000000  0.000000   \n",
      "200481  0.000000  0.000000            0.000000    0.000000  0.219203   \n",
      "200482  0.011610  0.004588            0.000000    0.000000  0.170277   \n",
      "\n",
      "         Butcher  ...  Sandwiches & Subs   Seafood      Soup  Spanish  \\\n",
      "0       0.000000  ...           0.045996  0.171609  0.032495      0.0   \n",
      "1       0.014602  ...           0.259715  0.023595  0.000000      0.0   \n",
      "2       0.005630  ...           0.120148  0.010288  0.000000      0.0   \n",
      "3       0.000000  ...           0.000000  0.000000  0.047468      0.0   \n",
      "4       0.000000  ...           0.110487  0.024533  0.000000      0.0   \n",
      "...          ...  ...                ...       ...       ...      ...   \n",
      "200478  0.040614  ...           0.000000  0.040614  0.000000      0.0   \n",
      "200479  0.005309  ...           0.094330  0.007335  0.000000      0.0   \n",
      "200480  0.000000  ...           0.000000  0.000000  0.000000      0.0   \n",
      "200481  0.000000  ...           0.000000  0.032447  0.000000      0.0   \n",
      "200482  0.000000  ...           0.109653  0.000000  0.000000      0.0   \n",
      "\n",
      "        Steakhouse     Sushi    Tacos      Thai  Vegetarian  Vietnamese  \n",
      "0         0.000000  0.009415  0.00000  0.003202    0.021587    0.000000  \n",
      "1         0.000000  0.000000  0.00000  0.000000    0.000000    0.000000  \n",
      "2         0.000000  0.002264  0.00000  0.000000    0.000000    0.004261  \n",
      "3         0.000000  0.000000  0.00000  0.000000    0.047468    0.000000  \n",
      "4         0.000000  0.000000  0.00000  0.000000    0.000000    0.000000  \n",
      "...            ...       ...      ...       ...         ...         ...  \n",
      "200478    0.000000  0.000000  0.00000  0.000000    0.000000    0.000000  \n",
      "200479    0.002933  0.000000  0.00107  0.000000    0.000000    0.000000  \n",
      "200480    0.000000  0.000000  0.00000  0.000000    0.000000    0.000000  \n",
      "200481    0.000000  0.000000  0.00000  0.000000    0.000000    0.000000  \n",
      "200482    0.005354  0.000000  0.00000  0.000000    0.000000    0.000000  \n",
      "\n",
      "[200483 rows x 55 columns]\n"
     ]
    }
   ],
   "source": [
    "# Store the new cutoff into a .csv file\n",
    "cutoff_df = pd.DataFrame(customer_profile_list, columns=names[:])\n",
    "cutoff_df.to_csv('./derived_files/customer_profiles_lowest_cutoff.csv')\n",
    "\n",
    "print(cutoff_df)"
   ]
  },
  {
   "cell_type": "code",
   "execution_count": 5,
   "id": "ea4ca435-be88-418c-acdc-5c0af9b2e72b",
   "metadata": {},
   "outputs": [],
   "source": [
    "# Perform cosine similarity between all the cuisine types, store values in a matrix\n",
    "cosine_sim = np.zeros((54, 54))\n",
    "for i in range(54):\n",
    "    for j in range(54):\n",
    "        a = cutoff_df.iloc[:, i + 1]\n",
    "        b = cutoff_df.iloc[:, j + 1]\n",
    "        cosine_sim[i][j] = np.dot(a, b) / (np.linalg.norm(a) * np.linalg.norm(b))"
   ]
  },
  {
   "cell_type": "code",
   "execution_count": 6,
   "id": "88daf57e-07bf-41ff-9444-9173be053261",
   "metadata": {},
   "outputs": [],
   "source": [
    "# Calculate mean and standard deviation\n",
    "mean = np.mean(cosine_sim)\n",
    "std = np.std(cosine_sim)\n",
    "\n",
    "# Use a sigmoid function to remap values so the average is closer to 0.5\n",
    "cosine_sim = 1 / (1 + np.exp(-(cosine_sim - mean) / std))\n",
    "\n",
    "# Store the final matrix as a dataframe\n",
    "final_df = pd.DataFrame(cosine_sim, names[1:], names[1:])\n",
    "\n",
    "# Hard coded values to remove\n",
    "# Values are removed to eliminate any chance of poor recommendation\n",
    "# Values are only removed in one direction, since the reverse direction can still be recommended\n",
    "final_df.at['Halal','Alcohol'] = 0\n",
    "final_df.at['Halal','Pork'] = 0\n",
    "final_df.at['Kosher','Pork'] = 0\n",
    "\n",
    "# Store the final dataframe into a .csv file\n",
    "final_df.to_csv('./derived_files/similarity_matrix_final_official.csv')"
   ]
  },
  {
   "cell_type": "code",
   "execution_count": 7,
   "id": "8b13a99d-14ad-4385-8eb7-fcb8bc39d4d2",
   "metadata": {},
   "outputs": [
    {
     "name": "stdout",
     "output_type": "stream",
     "text": [
      "0.0\n",
      "0.47633151193313844\n",
      "0.11369182393277837\n"
     ]
    }
   ],
   "source": [
    "# One final check on some statistics of the matrix\n",
    "minimum = np.min(cosine_sim)\n",
    "mean = np.mean(cosine_sim)  # New mean\n",
    "std = np.std(cosine_sim)  # New std\n",
    "\n",
    "print(minimum)\n",
    "print(mean)\n",
    "print(std)"
   ]
  },
  {
   "cell_type": "code",
   "execution_count": null,
   "id": "6459d08d-2d88-4a42-ad86-cab3689b00f3",
   "metadata": {},
   "outputs": [],
   "source": []
  }
 ],
 "metadata": {
  "kernelspec": {
   "display_name": "Python 3 (ipykernel)",
   "language": "python",
   "name": "python3"
  },
  "language_info": {
   "codemirror_mode": {
    "name": "ipython",
    "version": 3
   },
   "file_extension": ".py",
   "mimetype": "text/x-python",
   "name": "python",
   "nbconvert_exporter": "python",
   "pygments_lexer": "ipython3",
   "version": "3.9.7"
  },
  "vscode": {
   "interpreter": {
    "hash": "271bd3e9c85a41c36a4f667c0c3e0589d8adc85f95fe2c820252030afcad1d77"
   }
  }
 },
 "nbformat": 4,
 "nbformat_minor": 5
}
